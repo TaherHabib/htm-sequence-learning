{
 "cells": [
  {
   "cell_type": "code",
   "execution_count": 1,
   "metadata": {},
   "outputs": [
    {
     "data": {
      "application/javascript": [
       "IPython.OutputArea.auto_scroll_threshold = 9999;\n"
      ],
      "text/plain": [
       "<IPython.core.display.Javascript object>"
      ]
     },
     "metadata": {},
     "output_type": "display_data"
    }
   ],
   "source": [
    "%%javascript\n",
    "IPython.OutputArea.auto_scroll_threshold = 9999;"
   ]
  },
  {
   "cell_type": "code",
   "execution_count": 2,
   "metadata": {},
   "outputs": [
    {
     "data": {
      "text/plain": [
       "'/home/thabib/Documents/Personal/Master_Thesis/1_Python Implementation'"
      ]
     },
     "execution_count": 2,
     "metadata": {},
     "output_type": "execute_result"
    }
   ],
   "source": [
    "import sys\n",
    "import numpy as np\n",
    "import matplotlib.pyplot as plt\n",
    "import pandas as pd\n",
    "import seaborn as sns\n",
    "# from mpl_toolkits.mplot3d import Axes3D\n",
    "# import time\n",
    "import pickle\n",
    "\n",
    "\n",
    "import ipywidgets as widgets\n",
    "from ipywidgets import interact, interact_manual, interactive\n",
    "\n",
    "import os\n",
    "os.getcwd()\n",
    "\n",
    "# np.set_printoptions(threshold=sys.maxsize)"
   ]
  },
  {
   "cell_type": "markdown",
   "metadata": {},
   "source": [
    "The following code allows us to generate random valid grammar strings:\n",
    "(Source: https://www.deep-teaching.org/notebooks/sequence-learning/exercise-pytorch-char-rnn-reber-grammar)"
   ]
  },
  {
   "cell_type": "code",
   "execution_count": 108,
   "metadata": {},
   "outputs": [],
   "source": [
    "chars='ATSXPVZ'\n",
    "emb_chars = 'TP'\n",
    "\n",
    "graph = [[(1,5),('T','P')] , [(1,2),('S','X')], \\\n",
    "           [(3,5),('V','X')], [(6,),('Z')], \\\n",
    "           [(4,2,3),('T','P','S')], [(4,),('V')] ]\n",
    "\n",
    "\n",
    "# TO GENERATE SEQUENCES OF SRG\n",
    "def generateSequences(minLength=5):\n",
    "    \"\"\"\n",
    "    Returns a tuple with\n",
    "    first entry: as array of chars generated from SRG\n",
    "    second entry: as array of next possible transitions from each char in the first entry\n",
    "    \"\"\"\n",
    "    while True:\n",
    "        inchars = ['A']\n",
    "        node = 0\n",
    "        outchars = []    \n",
    "        while node != 6:\n",
    "            transitions = graph[node]\n",
    "            i = np.random.randint(0, len(transitions[0]))\n",
    "            inchars.append(transitions[1][i])\n",
    "            outchars.append(transitions[1])\n",
    "            node = transitions[0][i]\n",
    "        if len(inchars) > minLength:  \n",
    "            return inchars, outchars\n",
    "        \n",
    "        \n",
    "# TO GENERATE ONE-HOT ENCODINGS OF THE OUTPUT ARRAYS OF 'generateSequences()' function\n",
    "def get_one_srg(minLength=5):\n",
    "    inchars, outchars = generateSequences(minLength)\n",
    "#     print(inchars)\n",
    "    inseq = []\n",
    "    outseq= []\n",
    "    for i,o in zip(inchars, outchars): \n",
    "        inpt = np.zeros(7)\n",
    "        inpt[chars.find(i)] = 1.     \n",
    "        outpt = np.zeros(7)\n",
    "        for oo in o:\n",
    "            outpt[chars.find(oo)] = 1.\n",
    "        inseq.append(inpt)\n",
    "        outseq.append(outpt)\n",
    "    return inseq, outseq\n",
    "\n",
    "\n",
    "# TO CONVERT BACK INTO SYMBOLS FROM THE ONE-HOT ENCODINGS\n",
    "def OnehotToWord(sequence):\n",
    "    \"\"\"\n",
    "    converts a sequence (one-hot) in a reber string\n",
    "    \"\"\"\n",
    "    reberString = ''\n",
    "    for s in sequence:\n",
    "        index = np.where(s==1.0)[0][0]\n",
    "        reberString += chars[index]\n",
    "    reberString+='Z'\n",
    "    return reberString\n",
    "\n",
    "\n",
    "def get_n_srg(n, minLength=5):\n",
    "    examples = []\n",
    "    for i in range(n):\n",
    "        examples.append(get_one_srg(minLength))\n",
    "    return examples\n",
    "\n",
    "\n",
    "\n",
    "# ____________________________________For ERG strings__________________________________________#\n",
    "\n",
    "\n",
    "def get_char_onehot(char):\n",
    "    char_oh = np.zeros(7)\n",
    "    if chars.find(char) == -1:\n",
    "        print('Character NOT in Grammar')\n",
    "        return\n",
    "    else:\n",
    "        char_oh[chars.find(char)] = 1.\n",
    "    return char_oh \n",
    "\n",
    "\n",
    "def get_one_erg(minLength=5):\n",
    "    \n",
    "    simple_in, simple_out = get_one_srg()\n",
    "    emb_in = simple_in[:]\n",
    "    emb_out = simple_out[:]\n",
    "    \n",
    "    emb_char = emb_chars[np.random.randint(0, len(emb_chars))]\n",
    "\n",
    "    emb_in[1:1] = [get_char_onehot(emb_char)]\n",
    "    emb_in.insert(len(emb_in), get_char_onehot(emb_char))\n",
    "    print('Embedded INPUT string:', OnehotToWord(emb_in))\n",
    "    \n",
    "    emb_out[1:1] = [simple_out[0]]\n",
    "    emb_out.insert(len(emb_out)-1, get_char_onehot(emb_char))\n",
    "\n",
    "    return emb_in, emb_out\n",
    "\n",
    "\n",
    "def get_n_erg(n, minLength=5):\n",
    "    examples = []\n",
    "    for i in range(n):\n",
    "        examples.append(get_one_erg(minLength))\n",
    "    return examples\n",
    "\n",
    "\n",
    "def in_grammar(word):\n",
    "    if word[0] != 'A':\n",
    "        return False\n",
    "    node = 0    \n",
    "    for c in word[1:]:\n",
    "        transitions = graph[node]\n",
    "        try:\n",
    "            node = transitions[0][transitions[1].index(c)]\n",
    "        except ValueError: # using exceptions for flow control in python is common\n",
    "            return False\n",
    "    return True        "
   ]
  },
  {
   "cell_type": "code",
   "execution_count": 112,
   "metadata": {},
   "outputs": [
    {
     "name": "stdout",
     "output_type": "stream",
     "text": [
      "Embedded INPUT string: APTSSSXVPZ\n",
      "Embedded INPUT string: ATPVPXVSTZ\n",
      "[([array([1., 0., 0., 0., 0., 0., 0.]), array([0., 0., 0., 0., 1., 0., 0.]), array([0., 1., 0., 0., 0., 0., 0.]), array([0., 0., 1., 0., 0., 0., 0.]), array([0., 0., 1., 0., 0., 0., 0.]), array([0., 0., 1., 0., 0., 0., 0.]), array([0., 0., 0., 1., 0., 0., 0.]), array([0., 0., 0., 0., 0., 1., 0.]), array([0., 0., 0., 0., 1., 0., 0.])], [array([0., 1., 0., 0., 1., 0., 0.]), array([0., 1., 0., 0., 1., 0., 0.]), array([0., 0., 1., 1., 0., 0., 0.]), array([0., 0., 1., 1., 0., 0., 0.]), array([0., 0., 1., 1., 0., 0., 0.]), array([0., 0., 1., 1., 0., 0., 0.]), array([0., 0., 0., 1., 0., 1., 0.]), array([0., 0., 0., 0., 1., 0., 0.]), array([0., 0., 0., 0., 0., 0., 1.])]), ([array([1., 0., 0., 0., 0., 0., 0.]), array([0., 1., 0., 0., 0., 0., 0.]), array([0., 0., 0., 0., 1., 0., 0.]), array([0., 0., 0., 0., 0., 1., 0.]), array([0., 0., 0., 0., 1., 0., 0.]), array([0., 0., 0., 1., 0., 0., 0.]), array([0., 0., 0., 0., 0., 1., 0.]), array([0., 0., 1., 0., 0., 0., 0.]), array([0., 1., 0., 0., 0., 0., 0.])], [array([0., 1., 0., 0., 1., 0., 0.]), array([0., 1., 0., 0., 1., 0., 0.]), array([0., 0., 0., 0., 0., 1., 0.]), array([0., 1., 1., 0., 1., 0., 0.]), array([0., 0., 0., 1., 0., 1., 0.]), array([0., 0., 0., 0., 0., 1., 0.]), array([0., 1., 1., 0., 1., 0., 0.]), array([0., 1., 0., 0., 0., 0., 0.]), array([0., 0., 0., 0., 0., 0., 1.])])]\n"
     ]
    }
   ],
   "source": [
    "erg_exs = get_n_erg(2)\n",
    "print(erg_exs)\n",
    "#print(erg_out)\n",
    "\n",
    "# 'ATSXPVZ'"
   ]
  },
  {
   "cell_type": "code",
   "execution_count": 7,
   "metadata": {},
   "outputs": [
    {
     "data": {
      "image/png": "[encoded data removed]",
      "text/plain": [
       "<Figure size 432x288 with 1 Axes>"
      ]
     },
     "metadata": {
      "needs_background": "light"
     },
     "output_type": "display_data"
    }
   ],
   "source": [
    "len_erg_examples = []\n",
    "\n",
    "for ex in erg_examples:\n",
    "    len_erg_examples.append(len(ex[0])+1)\n",
    "\n",
    "# len_erg_examples\n",
    "\n",
    "plt.figure()\n",
    "plt.hist(len_erg_examples)\n",
    "plt.show()"
   ]
  },
  {
   "cell_type": "code",
   "execution_count": 17,
   "metadata": {},
   "outputs": [
    {
     "data": {
      "text/plain": [
       "96"
      ]
     },
     "execution_count": 17,
     "metadata": {},
     "output_type": "execute_result"
    }
   ],
   "source": [
    "c=0\n",
    "for i in len_erg_examples:\n",
    "    if i>20:\n",
    "        c+=1\n",
    "c    "
   ]
  },
  {
   "cell_type": "markdown",
   "metadata": {},
   "source": [
    "# :::::::::::::::::::::::::::::::::::ROUGH::::::::::::::::::::::::::::::::::::::::::::::::::::::"
   ]
  },
  {
   "cell_type": "markdown",
   "metadata": {},
   "source": [
    "## Calculation of Probability for a False Match of SDRs"
   ]
  },
  {
   "cell_type": "code",
   "execution_count": 12,
   "metadata": {},
   "outputs": [
    {
     "data": {
      "text/plain": [
       "4.696991823101967e-13"
      ]
     },
     "execution_count": 12,
     "metadata": {},
     "output_type": "execute_result"
    }
   ],
   "source": [
    "from scipy.special import comb as ncr\n",
    "    \n",
    "def false_match_prob(a,n,s,th):\n",
    "    summ = 0\n",
    "    for i in range(th, s+1):\n",
    "        summ += ncr(s,i, exact=True)*ncr(n-s,a-i, exact=True)\n",
    "    \n",
    "    prob = summ/ncr(n,a, exact=True)\n",
    "    return prob\n",
    "\n",
    "a = 25\n",
    "n = 1000\n",
    "s = 32\n",
    "th = 12   \n",
    "        \n",
    "false_match_prob(a,n,s,th)"
   ]
  },
  {
   "cell_type": "code",
   "execution_count": 94,
   "metadata": {},
   "outputs": [],
   "source": [
    "chars='TSXPV#'\n",
    "emb_chars = 'TP'\n",
    "\n",
    "graph = [[(1,5),('T','P')] , [(1,2),('S','X')], \\\n",
    "           [(3,5),('V','X')], [(6,),('#')], \\\n",
    "           [(4,2,3),('T','P','S')], [(4,),('V')] ]\n",
    "\n",
    "\n",
    "# TO GENERATE SEQUENCES OF SRG\n",
    "def generateSequences(minLength=5):\n",
    "    \"\"\"\n",
    "    Returns a tuple with\n",
    "    first entry: as array of chars generated from SRG\n",
    "    second entry: as array of next possible transitions from each char in the first entry\n",
    "    \"\"\"\n",
    "    while True:\n",
    "        node = 0\n",
    "        inchars = []\n",
    "        outchars = []    \n",
    "        while node != 6:\n",
    "            transitions = graph[node]\n",
    "            i = np.random.randint(0, len(transitions[0]))\n",
    "            inchars.append(transitions[1][i])\n",
    "            outchars.append(transitions[1])\n",
    "            node = transitions[0][i]\n",
    "        if len(inchars) > minLength:  \n",
    "            return inchars, outchars\n",
    "        \n",
    "        \n",
    "# TO GENERATE ONE-HOT ENCODINGS OF THE OUTPUT ARRAYS OF 'generateSequences()' function\n",
    "def get_one_srg(minLength=5):\n",
    "    inchars, outchars = generateSequences(minLength)\n",
    "    inseq = []\n",
    "    outseq= []\n",
    "    for i,o in zip(inchars, outchars): \n",
    "        inpt = np.zeros(6)\n",
    "        inpt[chars.find(i)] = 1.     \n",
    "        outpt = np.zeros(6)\n",
    "        for oo in o:\n",
    "            outpt[chars.find(oo)] = 1.\n",
    "        inseq.append(inpt)\n",
    "        outseq.append(outpt)\n",
    "    return inseq, outseq\n",
    "\n",
    "\n",
    "# TO CONVERT BACK INTO SYMBOLS FROM THE ONE-HOT ENCODINGS\n",
    "def OnehotToWord(sequence):\n",
    "    \"\"\"\n",
    "    converts a sequence (one-hot) in a reber string\n",
    "    \"\"\"\n",
    "    reberString = ''\n",
    "    for s in sequence:\n",
    "        index = np.where(s==1.0)[0][0]\n",
    "        reberString += chars[index]\n",
    "    reberString+='#'\n",
    "    return reberString\n",
    "\n",
    "\n",
    "def get_n_srg(n, minLength=5):\n",
    "    examples = []\n",
    "    for i in range(n):\n",
    "        examples.append(get_one_srg(minLength))\n",
    "    return examples\n",
    "\n",
    "\n",
    "\n",
    "# ____________________________________For ERG strings__________________________________________#\n",
    "\n",
    "\n",
    "def get_char_onehot(char):\n",
    "    char_oh = np.zeros(6)\n",
    "    if chars.find(char) == -1:\n",
    "        print('Character NOT in Grammar')\n",
    "        return\n",
    "    else:\n",
    "        char_oh[chars.find(char)] = 1.\n",
    "    return char_oh \n",
    "\n",
    "\n",
    "def get_one_erg(minLength=5):\n",
    "    \n",
    "    simple_in, simple_out = get_one_srg()\n",
    "    emb_in = simple_in[:]\n",
    "    emb_out = simple_out[:]\n",
    "    \n",
    "    emb_char = emb_chars[np.random.randint(0, len(emb_chars))]\n",
    "    emb_char_oh = get_char_onehot(emb_char)\n",
    "    \n",
    "    emb_in[1:1] = [emb_char_oh]\n",
    "    emb_in.insert(len(emb_in), emb_char_oh)\n",
    "    print('Embedded INPUT string:', OnehotToWord(emb_in))\n",
    "    \n",
    "    emb_out[1:1] = [simple_out[0]]\n",
    "    emb_out.insert(len(emb_out)-1, get_char_onehot(emb_char))\n",
    "\n",
    "    return emb_in, emb_out\n",
    "\n",
    "\n",
    "def get_n_erg(n, minLength=5):\n",
    "    examples = []\n",
    "    for i in range(n):\n",
    "        examples.append(get_one_erg(minLength))\n",
    "    return examples\n",
    "\n",
    "\n",
    "def in_grammar(word):\n",
    "    node = 0    \n",
    "    for c in word[1:]:\n",
    "        transitions = graph[node]\n",
    "        try:\n",
    "            node = transitions[0][transitions[1].index(c)]\n",
    "        except ValueError: # using exceptions for flow control in python is common\n",
    "            return False\n",
    "    return True        "
   ]
  },
  {
   "cell_type": "code",
   "execution_count": null,
   "metadata": {},
   "outputs": [],
   "source": [
    "in_seq, out_seq = get_one_embedded_example(minLength=5)\n",
    "\n",
    "print('Input sequence starting at char index 0 until the second to the last:\\n')\n",
    "print(in_seq)\n",
    "print('-----------------------------------')\n",
    "print('Input sequence as character:')\n",
    "print(sequenceToWord(in_seq))\n",
    "print('-----------------------------------')\n",
    "print('Target sequence starting at char index 1 until the last')\n",
    "print(sequenceToWord(out_seq))\n",
    "print('-----------------------------------')\n",
    "print('Validate a string:')\n",
    "### Append 'E' to input sequence as char at last index is ommited\n",
    "print(in_grammar(sequenceToWord(in_seq)+'E'))"
   ]
  },
  {
   "cell_type": "code",
   "execution_count": null,
   "metadata": {},
   "outputs": [],
   "source": [
    "print(chars)\n",
    "\n",
    "simple_in, simple_out = get_one_example()\n",
    "print('\\nSimple INPUT string (one-hot):', simple_in)\n",
    "# print(o)\n",
    "\n",
    "emb_char = emb_chars[np.random.randint(0, len(emb_chars))]\n",
    "print('\\nThis is embedded char:', emb_char)\n",
    "\n",
    "oh_emb_char = get_char_one_hot(emb_char)\n",
    "# print('\\nThis is embedded chars one-hot encoding:', oh_emb_char)\n",
    "\n",
    "emb_in = simple_in[:]\n",
    "# print('\\nString before embedding:', emb_in)\n",
    "emb_in[1:1] = [oh_emb_char]\n",
    "# print('\\nString after front embedding:', emb_in)\n",
    "emb_in.insert(len(emb_in), oh_emb_char)\n",
    "# print('\\nString after end embedding:', emb_in)\n",
    "print('\\nEmbedded INPUT string:', sequenceToWord(emb_in))\n",
    "\n",
    "print('\\n\\n\\n Simple OUTPUT string (one-hot):', simple_out)\n",
    "print('\\n Length of Simple OUTPUT string: ', len(simple_out))\n",
    "emb_out = simple_out[:]\n",
    "emb_out[1:1] = [simple_out[0]]\n",
    "emb_out.insert(len(emb_out)-1, simple_out[0])\n",
    "print('\\nEmbedded OUTPUT string (one-hot):', emb_out)\n",
    "print('\\n Length of Embedded OUTPUT string: ', len(emb_out))"
   ]
  },
  {
   "cell_type": "code",
   "execution_count": null,
   "metadata": {},
   "outputs": [],
   "source": []
  }
 ],
 "metadata": {
  "kernelspec": {
   "display_name": "Python 3",
   "language": "python",
   "name": "python3"
  },
  "language_info": {
   "codemirror_mode": {
    "name": "ipython",
    "version": 3
   },
   "file_extension": ".py",
   "mimetype": "text/x-python",
   "name": "python",
   "nbconvert_exporter": "python",
   "pygments_lexer": "ipython3",
   "version": "3.7.7"
  }
 },
 "nbformat": 4,
 "nbformat_minor": 2
}
