{
 "cells": [
  {
   "cell_type": "code",
   "execution_count": 8,
   "metadata": {},
   "outputs": [
    {
     "data": {
      "text/plain": [
       "'/home/thabib/Documents/Personal/Master_Thesis/1_HTMImplementation'"
      ]
     },
     "execution_count": 8,
     "metadata": {},
     "output_type": "execute_result"
    }
   ],
   "source": [
    "import sys\n",
    "import numpy as np\n",
    "import matplotlib.pyplot as plt\n",
    "import pandas as pd\n",
    "import seaborn as sns\n",
    "# from mpl_toolkits.mplot3d import Axes3D\n",
    "# import time\n",
    "import pickle\n",
    "import random\n",
    "import time\n",
    "\n",
    "import ipywidgets as widgets\n",
    "from ipywidgets import interact, interact_manual, interactive\n",
    "\n",
    "\n",
    "from rebergrammar_generator import *\n",
    "from experimentor import Experimentor\n",
    "\n",
    "import os\n",
    "os.getcwd()\n",
    "\n",
    "# np.set_printoptions(threshold=sys.maxsize)"
   ]
  },
  {
   "cell_type": "markdown",
   "metadata": {},
   "source": [
    "### Param Settings"
   ]
  },
  {
   "cell_type": "code",
   "execution_count": 9,
   "metadata": {},
   "outputs": [],
   "source": [
    "# Network params\n",
    "M = 8\n",
    "N = 175\n",
    "k = 25\n",
    "\n",
    "perm_decrement = 0.05 # p-\n",
    "perm_increment = 2*perm_decrement # p+\n",
    "perm_decay = 0.25*perm_decrement # p--\n",
    "perm_boost = 0.1*perm_decrement # p++\n",
    "\n",
    "# Cell params\n",
    "dendrites_percell = 32\n",
    "connSynapses_perdend = 32 # not functional, at the moment\n",
    "nmda_threshold = 20\n",
    "permanence_threshold = 0.40\n",
    "init_permanence = 0.25\n",
    "activity_horizon = None\n",
    "activity_threshold = None\n",
    "\n",
    "# Task params\n",
    "do_ERG = False\n",
    "nof_strings = 1000"
   ]
  },
  {
   "cell_type": "markdown",
   "metadata": {},
   "source": [
    "### Experiment Initializer and Launcher"
   ]
  },
  {
   "cell_type": "code",
   "execution_count": 10,
   "metadata": {},
   "outputs": [
    {
     "ename": "NameError",
     "evalue": "name 'activity_horizon' is not defined",
     "output_type": "error",
     "traceback": [
      "\u001b[0;31m---------------------------------------------------------------------------\u001b[0m",
      "\u001b[0;31mNameError\u001b[0m                                 Traceback (most recent call last)",
      "\u001b[0;32m<ipython-input-10-933296783b37>\u001b[0m in \u001b[0;36m<module>\u001b[0;34m\u001b[0m\n\u001b[1;32m      5\u001b[0m                    \u001b[0mperm_decrement\u001b[0m\u001b[0;34m=\u001b[0m\u001b[0mperm_decrement\u001b[0m\u001b[0;34m,\u001b[0m \u001b[0mperm_increment\u001b[0m\u001b[0;34m=\u001b[0m\u001b[0mperm_increment\u001b[0m\u001b[0;34m,\u001b[0m\u001b[0;34m\u001b[0m\u001b[0;34m\u001b[0m\u001b[0m\n\u001b[1;32m      6\u001b[0m                    \u001b[0mperm_decay\u001b[0m\u001b[0;34m=\u001b[0m\u001b[0mperm_decay\u001b[0m\u001b[0;34m,\u001b[0m \u001b[0mperm_boost\u001b[0m\u001b[0;34m=\u001b[0m\u001b[0mperm_boost\u001b[0m\u001b[0;34m,\u001b[0m\u001b[0;34m\u001b[0m\u001b[0;34m\u001b[0m\u001b[0m\n\u001b[0;32m----> 7\u001b[0;31m                    \u001b[0mactivity_horizon\u001b[0m\u001b[0;34m=\u001b[0m\u001b[0mactivity_horizon\u001b[0m\u001b[0;34m,\u001b[0m \u001b[0mactivity_th\u001b[0m\u001b[0;34m=\u001b[0m\u001b[0mactivity_threshold\u001b[0m\u001b[0;34m,\u001b[0m\u001b[0;34m\u001b[0m\u001b[0;34m\u001b[0m\u001b[0m\n\u001b[0m\u001b[1;32m      8\u001b[0m                    do_ERG=do_ERG, nof_strings=nof_strings)\n\u001b[1;32m      9\u001b[0m \u001b[0;34m\u001b[0m\u001b[0m\n",
      "\u001b[0;31mNameError\u001b[0m: name 'activity_horizon' is not defined"
     ]
    }
   ],
   "source": [
    "start = time.time()\n",
    "\n",
    "exp = Experimentor(M=M, N=N, k=k, n_dendrites=dendrites_percell, n_synapses=connSynapses_perdend, \n",
    "                   nmda_th=nmda_threshold, perm_th=permanence_threshold, perm_init=init_permanence, \n",
    "                   perm_decrement=perm_decrement, perm_increment=perm_increment, \n",
    "                   perm_decay=perm_decay, perm_boost=perm_boost,\n",
    "                   activity_horizon=activity_horizon, activity_th=activity_threshold,\n",
    "                   do_ERG=do_ERG, nof_strings=nof_strings)\n",
    "\n",
    "results = exp.run_experiment()\n",
    "\n",
    "print(time.time()-start)"
   ]
  },
  {
   "cell_type": "markdown",
   "metadata": {},
   "source": [
    "# Analysis of Results"
   ]
  },
  {
   "cell_type": "code",
   "execution_count": null,
   "metadata": {},
   "outputs": [],
   "source": []
  }
 ],
 "metadata": {
  "kernelspec": {
   "display_name": "Python 3",
   "language": "python",
   "name": "python3"
  },
  "language_info": {
   "codemirror_mode": {
    "name": "ipython",
    "version": 3
   },
   "file_extension": ".py",
   "mimetype": "text/x-python",
   "name": "python",
   "nbconvert_exporter": "python",
   "pygments_lexer": "ipython3",
   "version": "3.7.7"
  }
 },
 "nbformat": 4,
 "nbformat_minor": 4
}
